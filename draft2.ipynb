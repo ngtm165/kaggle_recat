{
 "cells": [
  {
   "cell_type": "code",
   "execution_count": 1,
   "metadata": {},
   "outputs": [
    {
     "name": "stderr",
     "output_type": "stream",
     "text": [
      "/home/phuocchung123/anaconda3/envs/GIN_korea/lib/python3.11/site-packages/tqdm/auto.py:21: TqdmWarning: IProgress not found. Please update jupyter and ipywidgets. See https://ipywidgets.readthedocs.io/en/stable/user_install.html\n",
      "  from .autonotebook import tqdm as notebook_tqdm\n"
     ]
    }
   ],
   "source": [
    "import numpy as np\n",
    "import csv, os\n",
    "from torch.utils.data import DataLoader\n",
    "from dgl.data.utils import split_dataset\n",
    "from sklearn.metrics import r2_score, mean_absolute_error, mean_squared_error\n",
    "from scipy import stats\n",
    "\n",
    "from src_chung.model import reactionMPNN, training, inference\n",
    "from src_chung.dataset import GraphDataset\n",
    "from src_chung.util import collate_reaction_graphs"
   ]
  },
  {
   "cell_type": "code",
   "execution_count": 2,
   "metadata": {},
   "outputs": [],
   "source": [
    "data = GraphDataset('./data_chung/data_valid2.npz')\n",
    "valid_loader = DataLoader(\n",
    "        dataset=data,\n",
    "        batch_size=32,\n",
    "        shuffle=True,\n",
    "        collate_fn=collate_reaction_graphs,\n",
    "        drop_last=True,\n",
    "    )"
   ]
  },
  {
   "cell_type": "code",
   "execution_count": 3,
   "metadata": {},
   "outputs": [],
   "source": [
    "node_dim = valid_loader.dataset.rmol_node_attr[0].shape[1]\n",
    "edge_dim = valid_loader.dataset.rmol_edge_attr[0].shape[1]"
   ]
  },
  {
   "cell_type": "code",
   "execution_count": 4,
   "metadata": {},
   "outputs": [
    {
     "name": "stderr",
     "output_type": "stream",
     "text": [
      "/mnt/d/workspace/kaggle_recat/src_chung/util.py:20: UserWarning: Creating a tensor from a list of numpy.ndarrays is extremely slow. Please consider converting the list to a single numpy.ndarray with numpy.array() before converting to a tensor. (Triggered internally at ../torch/csrc/utils/tensor_new.cpp:245.)\n",
      "  labels = torch.stack([torch.argmax(y) for y in torch.Tensor(batchdata[-1])], axis=0)\n"
     ]
    }
   ],
   "source": [
    "for batch in valid_loader:\n",
    "    # if batch[-1].size()[0] != 32:\n",
    "    a=[b for b in batch[:23]]\n",
    "    b=[b for b in batch[23:23+6]]\n",
    "    break"
   ]
  },
  {
   "cell_type": "code",
   "execution_count": 32,
   "metadata": {},
   "outputs": [
    {
     "name": "stdout",
     "output_type": "stream",
     "text": [
      "torch.Size([288, 300])\n",
      "torch.Size([375, 300])\n",
      "torch.Size([189, 300])\n",
      "torch.Size([174, 300])\n",
      "torch.Size([201, 300])\n",
      "torch.Size([53, 300])\n",
      "torch.Size([37, 300])\n",
      "torch.Size([184, 300])\n",
      "torch.Size([32, 300])\n",
      "torch.Size([32, 300])\n",
      "torch.Size([32, 300])\n",
      "torch.Size([32, 300])\n",
      "torch.Size([32, 300])\n",
      "torch.Size([32, 300])\n",
      "torch.Size([32, 300])\n",
      "torch.Size([32, 300])\n",
      "torch.Size([32, 300])\n",
      "torch.Size([32, 300])\n",
      "torch.Size([32, 300])\n",
      "torch.Size([32, 300])\n",
      "torch.Size([32, 300])\n",
      "torch.Size([32, 300])\n",
      "torch.Size([32, 300])\n"
     ]
    }
   ],
   "source": [
    "from src_chung.model import reactionMPNN\n",
    "import torch\n",
    "de=reactionMPNN(node_dim,edge_dim)\n",
    "x=torch.cat([de.mpnn(i) for i in a])\n",
    "# for mol in a:\n",
    "#     x.append(de.mpnn(mol))\n",
    "# len(x)"
   ]
  },
  {
   "cell_type": "code",
   "execution_count": 26,
   "metadata": {},
   "outputs": [
    {
     "data": {
      "text/plain": [
       "torch.Size([1981, 300])"
      ]
     },
     "execution_count": 26,
     "metadata": {},
     "output_type": "execute_result"
    }
   ],
   "source": [
    "x.shape"
   ]
  },
  {
   "cell_type": "code",
   "execution_count": 18,
   "metadata": {},
   "outputs": [
    {
     "name": "stdout",
     "output_type": "stream",
     "text": [
      "tensor([[1, 2, 3],\n",
      "        [4, 5, 6],\n",
      "        [7, 8, 9]])\n"
     ]
    }
   ],
   "source": [
    "import torch\n",
    "\n",
    "# Suppose you have the following list of tensors\n",
    "list_of_tensors = [torch.tensor([1, 2, 3]), torch.tensor([4, 5, 6]), torch.tensor([7, 8, 9])]\n",
    "\n",
    "# You can create a new tensor using torch.stack()\n",
    "new_tensor = torch.stack(list_of_tensors)\n",
    "\n",
    "print(new_tensor)\n"
   ]
  },
  {
   "cell_type": "code",
   "execution_count": 23,
   "metadata": {},
   "outputs": [
    {
     "name": "stdout",
     "output_type": "stream",
     "text": [
      "torch.Size([3])\n",
      "torch.Size([1, 2, 3])\n"
     ]
    },
    {
     "ename": "RuntimeError",
     "evalue": "Tensors must have same number of dimensions: got 2 and 3",
     "output_type": "error",
     "traceback": [
      "\u001b[0;31m---------------------------------------------------------------------------\u001b[0m",
      "\u001b[0;31mRuntimeError\u001b[0m                              Traceback (most recent call last)",
      "Cell \u001b[0;32mIn[23], line 14\u001b[0m\n\u001b[1;32m     11\u001b[0m \u001b[38;5;28mprint\u001b[39m(tensor2\u001b[38;5;241m.\u001b[39mshape)\n\u001b[1;32m     13\u001b[0m \u001b[38;5;66;03m# Now you can concatenate them\u001b[39;00m\n\u001b[0;32m---> 14\u001b[0m result \u001b[38;5;241m=\u001b[39m \u001b[43mtorch\u001b[49m\u001b[38;5;241;43m.\u001b[39;49m\u001b[43mcat\u001b[49m\u001b[43m(\u001b[49m\u001b[43m(\u001b[49m\u001b[43mtensor1\u001b[49m\u001b[43m,\u001b[49m\u001b[43m \u001b[49m\u001b[43mtensor2\u001b[49m\u001b[43m,\u001b[49m\u001b[43m \u001b[49m\u001b[43mtensor3\u001b[49m\u001b[43m)\u001b[49m\u001b[43m)\u001b[49m\n\u001b[1;32m     16\u001b[0m \u001b[38;5;28mprint\u001b[39m(result)\n",
      "\u001b[0;31mRuntimeError\u001b[0m: Tensors must have same number of dimensions: got 2 and 3"
     ]
    }
   ],
   "source": [
    "import torch\n",
    "\n",
    "# Your tensors\n",
    "tensor1 = torch.tensor([[1, 2, 3],[4,5,6],[20,21,22]])\n",
    "tensor2 = torch.tensor([[10,11,12],[30,31,32]])\n",
    "tensor3 = torch.tensor([7,8,9])\n",
    "print(tensor3.shape)\n",
    "# Expand dimensions of tensor2 and tensor3\n",
    "tensor2 = tensor2.unsqueeze(0)\n",
    "tensor3 = tensor3.unsqueeze(0)\n",
    "print(tensor2.shape)\n",
    "\n",
    "# Now you can concatenate them\n",
    "result = torch.cat((tensor1, tensor2, tensor3))\n",
    "\n",
    "print(result)\n"
   ]
  }
 ],
 "metadata": {
  "kernelspec": {
   "display_name": "GIN_korea",
   "language": "python",
   "name": "python3"
  },
  "language_info": {
   "codemirror_mode": {
    "name": "ipython",
    "version": 3
   },
   "file_extension": ".py",
   "mimetype": "text/x-python",
   "name": "python",
   "nbconvert_exporter": "python",
   "pygments_lexer": "ipython3",
   "version": "3.11.0"
  }
 },
 "nbformat": 4,
 "nbformat_minor": 2
}
